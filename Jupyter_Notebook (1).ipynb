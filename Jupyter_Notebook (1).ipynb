{
  "metadata": {
    "kernelspec": {
      "name": "python",
      "display_name": "Python (Pyodide)",
      "language": "python"
    },
    "language_info": {
      "codemirror_mode": {
        "name": "python",
        "version": 3
      },
      "file_extension": ".py",
      "mimetype": "text/x-python",
      "name": "python",
      "nbconvert_exporter": "python",
      "pygments_lexer": "ipython3",
      "version": "3.8"
    }
  },
  "nbformat_minor": 4,
  "nbformat": 4,
  "cells": [
    {
      "cell_type": "markdown",
      "source": "<center>\n    <img src=\"https://cf-courses-data.s3.us.cloud-object-storage.appdomain.cloud/IBMDeveloperSkillsNetwork-DS0105EN-SkillsNetwork/labs/Module2/images/SN_web_lightmode.png\" width=\"300\" alt=\"cognitiveclass.ai logo\">\n</center>\n",
      "metadata": {}
    },
    {
      "cell_type": "markdown",
      "source": "#### Add your code below following the instructions given in the course\n",
      "metadata": {}
    },
    {
      "cell_type": "markdown",
      "source": "# Proyect Notebook: Final assessment\n",
      "metadata": {}
    },
    {
      "cell_type": "markdown",
      "source": "## Introduction\n\n#### Here is the introduction\n",
      "metadata": {}
    },
    {
      "cell_type": "markdown",
      "source": "### List of data scientist languages\n\n+ Python\n+ R\n+ SQL\n+ Scala\n+ Java\n+ Julia\n  ",
      "metadata": {}
    },
    {
      "cell_type": "markdown",
      "source": "### List of most important libraries in Python\n\n+ Numpy\n+ Pandas\n+ Matplotlib\n+ Scikit-learn\n+ Seaborn\n+ Tensorflow\n+ plotly\n+ Bokeh\n+ Keras",
      "metadata": {}
    },
    {
      "cell_type": "markdown",
      "source": "### List of data science tools\n\n+ Google Colab\n+ Anaconda\n+ Visual Code\n+ R studio\n+ Jupyter Notebook\n+ Jupiter Lab\n+ Github\n+ Gitlab",
      "metadata": {}
    },
    {
      "cell_type": "markdown",
      "source": "## introducing arithmetic expression examples",
      "metadata": {}
    },
    {
      "cell_type": "code",
      "source": "2+2",
      "metadata": {
        "trusted": true
      },
      "outputs": [
        {
          "execution_count": 1,
          "output_type": "execute_result",
          "data": {
            "text/plain": "4"
          },
          "metadata": {}
        }
      ],
      "execution_count": 1
    },
    {
      "cell_type": "code",
      "source": "100*5",
      "metadata": {
        "trusted": true
      },
      "outputs": [
        {
          "execution_count": 2,
          "output_type": "execute_result",
          "data": {
            "text/plain": "500"
          },
          "metadata": {}
        }
      ],
      "execution_count": 2
    },
    {
      "cell_type": "code",
      "source": "245*10",
      "metadata": {
        "trusted": true
      },
      "outputs": [
        {
          "execution_count": 3,
          "output_type": "execute_result",
          "data": {
            "text/plain": "2450"
          },
          "metadata": {}
        }
      ],
      "execution_count": 3
    },
    {
      "cell_type": "code",
      "source": "# 460 minutes to hours\n\n460/60\n",
      "metadata": {
        "trusted": true
      },
      "outputs": [
        {
          "execution_count": 7,
          "output_type": "execute_result",
          "data": {
            "text/plain": "7.666666666666667"
          },
          "metadata": {}
        }
      ],
      "execution_count": 7
    },
    {
      "cell_type": "markdown",
      "source": "### Objectives\n\n+ objective 1\n+ objective 2\n+ objective 3\n  ",
      "metadata": {}
    },
    {
      "cell_type": "markdown",
      "source": "#### Autors Name\n\n##### Silvana Tellez\n",
      "metadata": {}
    },
    {
      "cell_type": "code",
      "source": "",
      "metadata": {
        "trusted": true
      },
      "outputs": [],
      "execution_count": null
    }
  ]
}